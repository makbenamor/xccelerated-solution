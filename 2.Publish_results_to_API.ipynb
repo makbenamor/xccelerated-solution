{
 "cells": [
  {
   "cell_type": "code",
   "execution_count": 6,
   "id": "475c019f",
   "metadata": {},
   "outputs": [
    {
     "name": "stdout",
     "output_type": "stream",
     "text": [
      "Requirement already satisfied: Flask in c:\\users\\mamorpc\\appdata\\roaming\\python\\python311\\site-packages (2.3.3)\n",
      "Requirement already satisfied: psycopg2 in c:\\users\\mamorpc\\anaconda3\\lib\\site-packages (2.9.7)\n",
      "Requirement already satisfied: Werkzeug>=2.3.7 in c:\\users\\mamorpc\\anaconda3\\lib\\site-packages (from Flask) (2.3.7)\n",
      "Requirement already satisfied: Jinja2>=3.1.2 in c:\\users\\mamorpc\\anaconda3\\lib\\site-packages (from Flask) (3.1.2)\n",
      "Requirement already satisfied: itsdangerous>=2.1.2 in c:\\users\\mamorpc\\appdata\\roaming\\python\\python311\\site-packages (from Flask) (2.1.2)\n",
      "Requirement already satisfied: click>=8.1.3 in c:\\users\\mamorpc\\appdata\\roaming\\python\\python311\\site-packages (from Flask) (8.1.7)\n",
      "Requirement already satisfied: blinker>=1.6.2 in c:\\users\\mamorpc\\appdata\\roaming\\python\\python311\\site-packages (from Flask) (1.6.2)\n",
      "Requirement already satisfied: colorama in c:\\users\\mamorpc\\anaconda3\\lib\\site-packages (from click>=8.1.3->Flask) (0.4.6)\n",
      "Requirement already satisfied: MarkupSafe>=2.0 in c:\\users\\mamorpc\\anaconda3\\lib\\site-packages (from Jinja2>=3.1.2->Flask) (2.1.1)\n",
      "Note: you may need to restart the kernel to use updated packages.\n"
     ]
    }
   ],
   "source": [
    "pip install Flask psycopg2"
   ]
  },
  {
   "cell_type": "code",
   "execution_count": 7,
   "id": "2d54ca49",
   "metadata": {},
   "outputs": [],
   "source": [
    "import psycopg2\n",
    "\n",
    "# Define connection parameters\n",
    "DATABASE_SETTINGS = {\n",
    "    \"database\": \"xcceleratedpostgresdb\",\n",
    "    \"user\": \"postgres\",\n",
    "    \"password\": \"AzerKimo2022@@@\",\n",
    "    \"host\": \"localhost\",\n",
    "    \"port\": \"5432\"\n",
    "}\n",
    "\n",
    "# Create a connection and cursor object\n",
    "connection = psycopg2.connect(**DATABASE_SETTINGS)\n",
    "cursor = connection.cursor()\n"
   ]
  },
  {
   "cell_type": "code",
   "execution_count": 8,
   "id": "a88c4935",
   "metadata": {},
   "outputs": [],
   "source": [
    "# SQL to get median visits before order\n",
    "median_visits_sql = \"\"\"\n",
    "WITH OrdersSessions AS (\n",
    "    SELECT customer_id, MIN(session_timestamp) as first_order_time\n",
    "    FROM sessions\n",
    "    WHERE event_type = 'ADD_PRODUCT_TO_CART'  -- Assuming this indicates a purchase\n",
    "    GROUP BY customer_id\n",
    ")\n",
    "SELECT \n",
    "    customer_id, \n",
    "    COUNT(session_id) as total_sessions_before_order\n",
    "FROM sessions\n",
    "JOIN OrdersSessions ON sessions.customer_id = OrdersSessions.customer_id\n",
    "WHERE session_timestamp < first_order_time\n",
    "GROUP BY sessions.customer_id\n",
    "\"\"\"\n",
    "\n",
    "# SQL to get median session duration before order\n",
    "median_duration_sql = \"\"\"\n",
    "WITH OrdersSessions AS (\n",
    "    SELECT customer_id, MIN(session_timestamp) as first_order_time\n",
    "    FROM sessions\n",
    "    WHERE event_type = 'ADD_PRODUCT_TO_CART'  -- Assuming this indicates a purchase\n",
    "    GROUP BY customer_id\n",
    ")\n",
    "SELECT \n",
    "    customer_id, \n",
    "    AVG(session_end_time - session_start_time) as avg_session_duration\n",
    "FROM sessions\n",
    "JOIN OrdersSessions ON sessions.customer_id = OrdersSessions.customer_id\n",
    "WHERE session_timestamp < first_order_time\n",
    "GROUP BY sessions.customer_id\n",
    "\"\"\"\n"
   ]
  },
  {
   "cell_type": "code",
   "execution_count": 9,
   "id": "09434fe5",
   "metadata": {},
   "outputs": [
    {
     "name": "stdout",
     "output_type": "stream",
     "text": [
      "Requirement already satisfied: Flask in c:\\users\\mamorpc\\appdata\\roaming\\python\\python311\\site-packages (2.3.3)\n",
      "Requirement already satisfied: Werkzeug>=2.3.7 in c:\\users\\mamorpc\\anaconda3\\lib\\site-packages (from Flask) (2.3.7)\n",
      "Requirement already satisfied: Jinja2>=3.1.2 in c:\\users\\mamorpc\\anaconda3\\lib\\site-packages (from Flask) (3.1.2)\n",
      "Requirement already satisfied: itsdangerous>=2.1.2 in c:\\users\\mamorpc\\appdata\\roaming\\python\\python311\\site-packages (from Flask) (2.1.2)\n",
      "Requirement already satisfied: click>=8.1.3 in c:\\users\\mamorpc\\appdata\\roaming\\python\\python311\\site-packages (from Flask) (8.1.7)\n",
      "Requirement already satisfied: blinker>=1.6.2 in c:\\users\\mamorpc\\appdata\\roaming\\python\\python311\\site-packages (from Flask) (1.6.2)\n",
      "Requirement already satisfied: colorama in c:\\users\\mamorpc\\anaconda3\\lib\\site-packages (from click>=8.1.3->Flask) (0.4.6)\n",
      "Requirement already satisfied: MarkupSafe>=2.0 in c:\\users\\mamorpc\\anaconda3\\lib\\site-packages (from Jinja2>=3.1.2->Flask) (2.1.1)\n"
     ]
    }
   ],
   "source": []
  },
  {
   "cell_type": "code",
   "execution_count": 10,
   "id": "8e7ea3ee",
   "metadata": {},
   "outputs": [
    {
     "name": "stdout",
     "output_type": "stream",
     "text": [
      " * Serving Flask app '__main__'\n",
      " * Debug mode: off\n"
     ]
    },
    {
     "name": "stderr",
     "output_type": "stream",
     "text": [
      "WARNING: This is a development server. Do not use it in a production deployment. Use a production WSGI server instead.\n",
      " * Running on http://127.0.0.1:5000\n",
      "Press CTRL+C to quit\n",
      "127.0.0.1 - - [22/Sep/2023 09:34:18] \"GET / HTTP/1.1\" 404 -\n",
      "127.0.0.1 - - [22/Sep/2023 09:35:35] \"GET / HTTP/1.1\" 404 -\n",
      "127.0.0.1 - - [22/Sep/2023 09:36:09] \"GET / HTTP/1.1\" 404 -\n",
      "127.0.0.1 - - [22/Sep/2023 09:37:02] \"GET / HTTP/1.1\" 404 -\n",
      "[2023-09-22 09:38:44,315] ERROR in app: Exception on /metrics/orders [GET]\n",
      "Traceback (most recent call last):\n",
      "  File \"C:\\Users\\mamorpc\\AppData\\Roaming\\Python\\Python311\\site-packages\\flask\\app.py\", line 2190, in wsgi_app\n",
      "    response = self.full_dispatch_request()\n",
      "               ^^^^^^^^^^^^^^^^^^^^^^^^^^^^\n",
      "  File \"C:\\Users\\mamorpc\\AppData\\Roaming\\Python\\Python311\\site-packages\\flask\\app.py\", line 1486, in full_dispatch_request\n",
      "    rv = self.handle_user_exception(e)\n",
      "         ^^^^^^^^^^^^^^^^^^^^^^^^^^^^^\n",
      "  File \"C:\\Users\\mamorpc\\AppData\\Roaming\\Python\\Python311\\site-packages\\flask\\app.py\", line 1484, in full_dispatch_request\n",
      "    rv = self.dispatch_request()\n",
      "         ^^^^^^^^^^^^^^^^^^^^^^^\n",
      "  File \"C:\\Users\\mamorpc\\AppData\\Roaming\\Python\\Python311\\site-packages\\flask\\app.py\", line 1469, in dispatch_request\n",
      "    return self.ensure_sync(self.view_functions[rule.endpoint])(**view_args)\n",
      "           ^^^^^^^^^^^^^^^^^^^^^^^^^^^^^^^^^^^^^^^^^^^^^^^^^^^^^^^^^^^^^^^^^\n",
      "  File \"C:\\Users\\mamorpc\\AppData\\Local\\Temp\\ipykernel_30368\\2138016284.py\", line 8, in metrics_orders\n",
      "    cursor.execute(median_visits_sql)\n",
      "psycopg2.errors.UndefinedColumn: column \"session_timestamp\" does not exist\n",
      "LINE 3:     SELECT customer_id, MIN(session_timestamp) as first_orde...\n",
      "                                    ^\n",
      "\n",
      "127.0.0.1 - - [22/Sep/2023 09:38:44] \"GET /metrics/orders HTTP/1.1\" 500 -\n",
      "[2023-09-22 09:38:47,231] ERROR in app: Exception on /metrics/orders [GET]\n",
      "Traceback (most recent call last):\n",
      "  File \"C:\\Users\\mamorpc\\AppData\\Roaming\\Python\\Python311\\site-packages\\flask\\app.py\", line 2190, in wsgi_app\n",
      "    response = self.full_dispatch_request()\n",
      "               ^^^^^^^^^^^^^^^^^^^^^^^^^^^^\n",
      "  File \"C:\\Users\\mamorpc\\AppData\\Roaming\\Python\\Python311\\site-packages\\flask\\app.py\", line 1486, in full_dispatch_request\n",
      "    rv = self.handle_user_exception(e)\n",
      "         ^^^^^^^^^^^^^^^^^^^^^^^^^^^^^\n",
      "  File \"C:\\Users\\mamorpc\\AppData\\Roaming\\Python\\Python311\\site-packages\\flask\\app.py\", line 1484, in full_dispatch_request\n",
      "    rv = self.dispatch_request()\n",
      "         ^^^^^^^^^^^^^^^^^^^^^^^\n",
      "  File \"C:\\Users\\mamorpc\\AppData\\Roaming\\Python\\Python311\\site-packages\\flask\\app.py\", line 1469, in dispatch_request\n",
      "    return self.ensure_sync(self.view_functions[rule.endpoint])(**view_args)\n",
      "           ^^^^^^^^^^^^^^^^^^^^^^^^^^^^^^^^^^^^^^^^^^^^^^^^^^^^^^^^^^^^^^^^^\n",
      "  File \"C:\\Users\\mamorpc\\AppData\\Local\\Temp\\ipykernel_30368\\2138016284.py\", line 8, in metrics_orders\n",
      "    cursor.execute(median_visits_sql)\n",
      "psycopg2.errors.InFailedSqlTransaction: current transaction is aborted, commands ignored until end of transaction block\n",
      "\n",
      "127.0.0.1 - - [22/Sep/2023 09:38:47] \"GET /metrics/orders HTTP/1.1\" 500 -\n",
      "127.0.0.1 - - [22/Sep/2023 09:45:50] \"GET / HTTP/1.1\" 404 -\n",
      "[2023-09-22 09:45:58,206] ERROR in app: Exception on /metrics/orders [GET]\n",
      "Traceback (most recent call last):\n",
      "  File \"C:\\Users\\mamorpc\\AppData\\Roaming\\Python\\Python311\\site-packages\\flask\\app.py\", line 2190, in wsgi_app\n",
      "    response = self.full_dispatch_request()\n",
      "               ^^^^^^^^^^^^^^^^^^^^^^^^^^^^\n",
      "  File \"C:\\Users\\mamorpc\\AppData\\Roaming\\Python\\Python311\\site-packages\\flask\\app.py\", line 1486, in full_dispatch_request\n",
      "    rv = self.handle_user_exception(e)\n",
      "         ^^^^^^^^^^^^^^^^^^^^^^^^^^^^^\n",
      "  File \"C:\\Users\\mamorpc\\AppData\\Roaming\\Python\\Python311\\site-packages\\flask\\app.py\", line 1484, in full_dispatch_request\n",
      "    rv = self.dispatch_request()\n",
      "         ^^^^^^^^^^^^^^^^^^^^^^^\n",
      "  File \"C:\\Users\\mamorpc\\AppData\\Roaming\\Python\\Python311\\site-packages\\flask\\app.py\", line 1469, in dispatch_request\n",
      "    return self.ensure_sync(self.view_functions[rule.endpoint])(**view_args)\n",
      "           ^^^^^^^^^^^^^^^^^^^^^^^^^^^^^^^^^^^^^^^^^^^^^^^^^^^^^^^^^^^^^^^^^\n",
      "  File \"C:\\Users\\mamorpc\\AppData\\Local\\Temp\\ipykernel_30368\\2138016284.py\", line 8, in metrics_orders\n",
      "    cursor.execute(median_visits_sql)\n",
      "psycopg2.errors.InFailedSqlTransaction: current transaction is aborted, commands ignored until end of transaction block\n",
      "\n",
      "127.0.0.1 - - [22/Sep/2023 09:45:58] \"GET /metrics/orders HTTP/1.1\" 500 -\n"
     ]
    }
   ],
   "source": []
  },
  {
   "cell_type": "code",
   "execution_count": 11,
   "id": "b1fa57ca",
   "metadata": {},
   "outputs": [
    {
     "name": "stdout",
     "output_type": "stream",
     "text": [
      " * Serving Flask app '__main__'\n",
      " * Debug mode: on\n"
     ]
    },
    {
     "name": "stderr",
     "output_type": "stream",
     "text": [
      "WARNING: This is a development server. Do not use it in a production deployment. Use a production WSGI server instead.\n",
      " * Running on http://127.0.0.1:5000\n",
      "Press CTRL+C to quit\n",
      " * Restarting with watchdog (windowsapi)\n"
     ]
    },
    {
     "ename": "SystemExit",
     "evalue": "1",
     "output_type": "error",
     "traceback": [
      "An exception has occurred, use %tb to see the full traceback.\n",
      "\u001b[1;31mSystemExit\u001b[0m\u001b[1;31m:\u001b[0m 1\n"
     ]
    },
    {
     "name": "stderr",
     "output_type": "stream",
     "text": [
      "C:\\Users\\mamorpc\\anaconda3\\Lib\\site-packages\\IPython\\core\\interactiveshell.py:3513: UserWarning: To exit: use 'exit', 'quit', or Ctrl-D.\n",
      "  warn(\"To exit: use 'exit', 'quit', or Ctrl-D.\", stacklevel=1)\n"
     ]
    }
   ],
   "source": [
    "app.run(port=5000, debug=True)\n"
   ]
  },
  {
   "cell_type": "code",
   "execution_count": null,
   "id": "4769c861",
   "metadata": {},
   "outputs": [],
   "source": []
  }
 ],
 "metadata": {
  "kernelspec": {
   "display_name": "Python 3 (ipykernel)",
   "language": "python",
   "name": "python3"
  },
  "language_info": {
   "codemirror_mode": {
    "name": "ipython",
    "version": 3
   },
   "file_extension": ".py",
   "mimetype": "text/x-python",
   "name": "python",
   "nbconvert_exporter": "python",
   "pygments_lexer": "ipython3",
   "version": "3.11.4"
  }
 },
 "nbformat": 4,
 "nbformat_minor": 5
}
