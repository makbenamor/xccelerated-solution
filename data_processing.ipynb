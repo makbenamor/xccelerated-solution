{
 "cells": [
  {
   "cell_type": "markdown",
   "id": "3bd4a84b",
   "metadata": {},
   "source": [
    "**Assignment**"
   ]
  },
  {
   "cell_type": "code",
   "execution_count": 1,
   "id": "dc41681a",
   "metadata": {},
   "outputs": [],
   "source": [
    "import requests\n",
    "import json\n",
    "\n",
    "url = \"https://storage.googleapis.com/xcc-de-assessment/events.json\"\n",
    "response = requests.get(url)\n",
    "\n",
    "# Split the content by lines\n",
    "lines = response.text.splitlines()\n",
    "\n",
    "# Parse each line as an individual JSON object\n",
    "data = [json.loads(line) for line in lines]\n",
    "\n"
   ]
  },
  {
   "cell_type": "code",
   "execution_count": 2,
   "id": "be9bf9b4",
   "metadata": {},
   "outputs": [
    {
     "name": "stdout",
     "output_type": "stream",
     "text": [
      "667961\n"
     ]
    }
   ],
   "source": [
    "#checking the number of rows\n",
    "total_rows = len(data)\n",
    "print(total_rows)\n"
   ]
  },
  {
   "cell_type": "code",
   "execution_count": 3,
   "id": "9976d5b2",
   "metadata": {},
   "outputs": [
    {
     "name": "stdout",
     "output_type": "stream",
     "text": [
      "191011\n"
     ]
    }
   ],
   "source": [
    "#filtering the customers with null id \n",
    "\n",
    "logged_in_data = [event for event in data if event[\"event\"][\"customer-id\"] is not None]\n",
    "\n",
    "total_rows = len(logged_in_data)\n",
    "print(total_rows)"
   ]
  },
  {
   "cell_type": "markdown",
   "id": "baa61743",
   "metadata": {},
   "source": [
    "==> from a total of 667961 rows we have 191011 rows with non-null customer_id"
   ]
  },
  {
   "cell_type": "code",
   "execution_count": 4,
   "id": "433871ae",
   "metadata": {},
   "outputs": [],
   "source": [
    "# I'm gonna assume based in the assignment reauirement that the time between each session is 30 minutes of inactivity \n",
    "\n",
    "import datetime\n",
    "logged_in_data.sort(key=lambda x: (x[\"event\"][\"customer-id\"], x[\"event\"][\"timestamp\"]))\n",
    "\n",
    "sessions = []\n",
    "session = []\n",
    "prev_timestamp = None\n",
    "\n",
    "for event in logged_in_data:\n",
    "    current_timestamp = datetime.datetime.fromisoformat(event[\"event\"][\"timestamp\"])\n",
    "    if prev_timestamp and (current_timestamp - prev_timestamp).seconds > 1800:  # 30 minutes in seconds\n",
    "        sessions.append(session)\n",
    "        session = []\n",
    "    session.append(event)\n",
    "    prev_timestamp = current_timestamp\n",
    "\n",
    "if session:\n",
    "    sessions.append(session)\n"
   ]
  },
  {
   "cell_type": "code",
   "execution_count": 5,
   "id": "b2707a91",
   "metadata": {},
   "outputs": [
    {
     "name": "stdout",
     "output_type": "stream",
     "text": [
      "Requirement already satisfied: psycopg2 in c:\\users\\mamorpc\\anaconda3\\lib\\site-packages (2.9.7)\n",
      "Note: you may need to restart the kernel to use updated packages.\n"
     ]
    }
   ],
   "source": [
    "pip install psycopg2\n"
   ]
  },
  {
   "cell_type": "code",
   "execution_count": 6,
   "id": "583291c5",
   "metadata": {},
   "outputs": [],
   "source": [
    "\n",
    "import psycopg2\n",
    "\n",
    "# Connection details for PostgreSQL database on Docker\n",
    "DB_NAME = \"xcceleratedpostgresdb\"\n",
    "DB_USER = \"postgres\"  # user\n",
    "DB_PASSWORD = \"AzerKimo2022@@@\"\n",
    "DB_HOST = \"localhost\"  #  connecting from the host machine\n",
    "DB_PORT = \"5432\"  # default port for PostgreSQL\n",
    "\n",
    "# Connect to PostgreSQL database\n",
    "conn = psycopg2.connect(\n",
    "    dbname=DB_NAME,\n",
    "    user=DB_USER,\n",
    "    password=DB_PASSWORD,\n",
    "    host=DB_HOST,\n",
    "    port=DB_PORT\n",
    ")\n",
    "cursor = conn.cursor()\n",
    "\n",
    "\n",
    "\n"
   ]
  },
  {
   "cell_type": "code",
   "execution_count": 7,
   "id": "0ae2b101",
   "metadata": {},
   "outputs": [
    {
     "name": "stdout",
     "output_type": "stream",
     "text": [
      "Connected to: PostgreSQL 16.0 (Debian 16.0-1.pgdg120+1) on x86_64-pc-linux-gnu, compiled by gcc (Debian 12.2.0-14) 12.2.0, 64-bit\n"
     ]
    }
   ],
   "source": [
    "#i am using a PostgreSQL database called xcceleratedpostgresdb running on a docker container  \n",
    "\n",
    "import psycopg2\n",
    "\n",
    "# Connection details to PostgreSQL\n",
    "DB_NAME = \"xcceleratedpostgresdb\"\n",
    "DB_USER = \"postgres\"\n",
    "DB_PASSWORD = \"AzerKimo2022@@@\"\n",
    "DB_HOST = \"localhost\"\n",
    "DB_PORT = \"5432\"\n",
    "\n",
    "# Try connecting to the database\n",
    "try:\n",
    "    conn = psycopg2.connect(\n",
    "        dbname=DB_NAME,\n",
    "        user=DB_USER,\n",
    "        password=DB_PASSWORD,\n",
    "        host=DB_HOST,\n",
    "        port=DB_PORT\n",
    "    )\n",
    "\n",
    "    # Create a cursor object to interact with PostgreSQL\n",
    "    cursor = conn.cursor()\n",
    "\n",
    "    # Execute a simple query to fetch PostgreSQL version\n",
    "    cursor.execute(\"SELECT version();\")\n",
    "    version = cursor.fetchone()\n",
    "\n",
    "    # Print the version\n",
    "    print(\"Connected to:\", version[0])\n",
    "\n",
    "except psycopg2.OperationalError as e:\n",
    "    print(f\"Failed to connect to the database! Error: {e}\")\n",
    "    \n",
    "\n",
    "    # Ensure to close the connection and cursor if they exist\n",
    "    #if cursor:\n",
    "    #   cursor.close()\n",
    "    # if conn:\n",
    "    #    conn.close() '''\n"
   ]
  },
  {
   "cell_type": "code",
   "execution_count": 8,
   "id": "b3a48df6",
   "metadata": {},
   "outputs": [],
   "source": [
    "# Create a table for sessions\n",
    "cursor.execute(\"\"\"\n",
    "CREATE TABLE IF NOT EXISTS sessions (\n",
    "    session_id SERIAL PRIMARY KEY,\n",
    "    customer_id INTEGER,\n",
    "    start_time TIMESTAMP,\n",
    "    end_time TIMESTAMP,\n",
    "    duration INTEGER\n",
    ")\n",
    "\"\"\")\n",
    "\n",
    "# Insert sessions into the table\n",
    "for idx, session in enumerate(sessions):\n",
    "    start_time_str = session[0][\"event\"][\"timestamp\"]\n",
    "    end_time_str = session[-1][\"event\"][\"timestamp\"]\n",
    "    \n",
    "    start_time = datetime.datetime.fromisoformat(start_time_str)\n",
    "    end_time = datetime.datetime.fromisoformat(end_time_str)\n",
    "    \n",
    "    duration = (end_time - start_time).seconds\n",
    "    customer_id = session[0][\"event\"][\"customer-id\"]\n",
    "\n",
    "    cursor.execute(\"INSERT INTO sessions (customer_id, start_time, end_time, duration) VALUES (%s, %s, %s, %s)\", \n",
    "                   (customer_id, start_time_str, end_time_str, duration))\n",
    "conn.commit() "
   ]
  },
  {
   "cell_type": "markdown",
   "id": "46fb426e",
   "metadata": {},
   "source": [
    "**Step 2: Publish the Results**\n",
    "\n",
    "1. Design the API\n",
    "2. Implementation"
   ]
  },
  {
   "cell_type": "code",
   "execution_count": 9,
   "id": "d35a8396",
   "metadata": {},
   "outputs": [
    {
     "name": "stdout",
     "output_type": "stream",
     "text": [
      " * Serving Flask app '__main__'\n",
      " * Debug mode: on\n"
     ]
    }
   ],
   "source": [
    "# Set up Flask and threading since i am working in ipynb file \n",
    "\n",
    "from flask import Flask, jsonify\n",
    "import threading\n",
    "\n",
    "app = Flask(__name__)\n",
    "\n",
    "@app.route(\"/\")\n",
    "def hello():\n",
    "    return \"Hello, Xccelerated!\"\n",
    "\n",
    "def run():\n",
    "    app.run(debug=True, use_reloader=False)  # Set use_reloader to False to avoid the loop restart\n",
    "\n",
    "t = threading.Thread(target=run)\n",
    "t.start()\n",
    "\n",
    "\n"
   ]
  },
  {
   "cell_type": "code",
   "execution_count": 10,
   "id": "fb8a098b",
   "metadata": {},
   "outputs": [],
   "source": [
    "# Database Connection\n",
    "import psycopg2\n",
    "\n",
    "def get_db_connection():\n",
    "    # Define your connection parameters\n",
    "    dbname = \"xcceleratedpostgresdb\"\n",
    "    user = \"postgres\"\n",
    "    password = \"AzerKimo2022@@@\"\n",
    "    host = \"localhost\"\n",
    "    port = \"5432\"\n",
    "    \n",
    "    # Establish and return the connection\n",
    "    conn = psycopg2.connect(\n",
    "        dbname=dbname,\n",
    "        user=user,\n",
    "        password=password,\n",
    "        host=host,\n",
    "        port=port\n",
    "    )\n",
    "    return conn\n"
   ]
  },
  {
   "cell_type": "code",
   "execution_count": 11,
   "id": "80c08f1d",
   "metadata": {},
   "outputs": [
    {
     "name": "stderr",
     "output_type": "stream",
     "text": [
      "WARNING: This is a development server. Do not use it in a production deployment. Use a production WSGI server instead.\n",
      " * Running on http://127.0.0.1:5000\n",
      "Press CTRL+C to quit\n"
     ]
    },
    {
     "name": "stdout",
     "output_type": "stream",
     "text": [
      " * Serving Flask app '__main__'\n",
      " * Debug mode: on\n"
     ]
    },
    {
     "name": "stderr",
     "output_type": "stream",
     "text": [
      "WARNING: This is a development server. Do not use it in a production deployment. Use a production WSGI server instead.\n",
      " * Running on http://127.0.0.1:5000\n",
      "Press CTRL+C to quit\n",
      " * Restarting with watchdog (windowsapi)\n"
     ]
    },
    {
     "ename": "SystemExit",
     "evalue": "1",
     "output_type": "error",
     "traceback": [
      "An exception has occurred, use %tb to see the full traceback.\n",
      "\u001b[1;31mSystemExit\u001b[0m\u001b[1;31m:\u001b[0m 1\n"
     ]
    },
    {
     "name": "stderr",
     "output_type": "stream",
     "text": [
      "C:\\Users\\mamorpc\\anaconda3\\Lib\\site-packages\\IPython\\core\\interactiveshell.py:3513: UserWarning: To exit: use 'exit', 'quit', or Ctrl-D.\n",
      "  warn(\"To exit: use 'exit', 'quit', or Ctrl-D.\", stacklevel=1)\n"
     ]
    }
   ],
   "source": [
    "from flask import Flask, jsonify\n",
    "from flask_sqlalchemy import SQLAlchemy\n",
    "import psycopg2\n",
    "\n",
    "app = Flask(__name__)\n",
    "\n",
    "@app.route('/metrics/orders', methods=['GET'])\n",
    "def get_order_metrics():\n",
    "    # Connection details to PostgreSQL\n",
    "    DB_NAME = \"xcceleratedpostgresdb\"\n",
    "    DB_USER = \"postgres\"\n",
    "    DB_PASSWORD = \"AzerKimo2022@@@\"\n",
    "    DB_HOST = \"localhost\"\n",
    "    DB_PORT = \"5432\"\n",
    "\n",
    "    try:\n",
    "        # Connect to the PostgreSQL database\n",
    "        conn = psycopg2.connect(\n",
    "            dbname=DB_NAME,\n",
    "            user=DB_USER,\n",
    "            password=DB_PASSWORD,\n",
    "            host=DB_HOST,\n",
    "            port=DB_PORT\n",
    "        )\n",
    "        cursor = conn.cursor()\n",
    "        \n",
    "        # SQL query to calculate median visits before order\n",
    "        median_visits_query = \"\"\"\n",
    "        SELECT\n",
    "            percentile_cont(0.5) WITHIN GROUP (ORDER BY visits) AS median_visits\n",
    "        FROM (\n",
    "            SELECT\n",
    "                customer_id,\n",
    "                COUNT(DISTINCT session_id) AS visits\n",
    "            FROM\n",
    "                sessions\n",
    "            WHERE\n",
    "                customer_id IS NOT NULL\n",
    "            GROUP BY\n",
    "                customer_id\n",
    "        ) subquery\n",
    "        \"\"\"\n",
    "        \n",
    "        # SQL query to calculate median session duration before order\n",
    "        median_duration_query = \"\"\"\n",
    "        SELECT\n",
    "            percentile_cont(0.5) WITHIN GROUP (ORDER BY duration) AS median_duration_minutes\n",
    "        FROM (\n",
    "            SELECT\n",
    "                customer_id,\n",
    "                MIN(duration) AS duration\n",
    "            FROM\n",
    "                sessions\n",
    "            WHERE\n",
    "                customer_id IS NOT NULL\n",
    "            GROUP BY\n",
    "                customer_id\n",
    "        ) subquery\n",
    "        \"\"\"\n",
    "        \n",
    "        cursor.execute(median_visits_query)\n",
    "        median_visits = cursor.fetchone()[0]\n",
    "        \n",
    "        cursor.execute(median_duration_query)\n",
    "        median_duration_minutes = cursor.fetchone()[0]\n",
    "        \n",
    "        # Return the metrics as JSON response\n",
    "        metrics = {\n",
    "            \"median_visits_before_order\": median_visits,\n",
    "            \"median_session_duration_minutes_before_order\": median_duration_minutes\n",
    "        }\n",
    "        \n",
    "    except psycopg2.Error as e:\n",
    "        # Handle database connection error\n",
    "        metrics = {\"error\": str(e)}\n",
    "        \n",
    "    finally:\n",
    "        # Close the cursor and connection\n",
    "        if cursor:\n",
    "            cursor.close()\n",
    "        if conn:\n",
    "            conn.close()\n",
    "    \n",
    "    return jsonify(metrics)\n",
    "\n",
    "if __name__ == \"__main__\":\n",
    "    app.run(debug=True)"
   ]
  },
  {
   "cell_type": "code",
   "execution_count": null,
   "id": "65f67de5",
   "metadata": {},
   "outputs": [],
   "source": [
    "import datetime\n",
    "import psycopg2\n",
    "from flask import Flask, jsonify\n",
    "from flask_sqlalchemy import SQLAlchemy\n",
    "\n",
    "# Database configuration\n",
    "DB_NAME = \"xcceleratedpostgresdb\"\n",
    "DB_USER = \"postgres\"\n",
    "DB_PASSWORD = \"AzerKimo2022@@@\"  # Consider using environment variables for sensitive info\n",
    "DB_HOST = \"localhost\"\n",
    "DB_PORT = \"5432\"\n",
    "\n",
    "# Create Flask app\n",
    "app = Flask(__name__)\n",
    "\n",
    "# SQLAlchemy configuration for PostgreSQL\n",
    "app.config['SQLALCHEMY_DATABASE_URI'] = f\"postgresql://{DB_USER}:{DB_PASSWORD}@{DB_HOST}:{DB_PORT}/{DB_NAME}\"\n",
    "app.config['SQLALCHEMY_TRACK_MODIFICATIONS'] = False\n",
    "\n",
    "# Initialize SQLAlchemy for the app\n",
    "db = SQLAlchemy(app)\n",
    "\n",
    "\n",
    "# Model for the 'sessions' table\n",
    "class Session(db.Model):\n",
    "    __tablename__ = 'sessions'\n",
    "    __table_args__ = {'schema': 'public'}\n",
    "    session_id = db.Column(db.Integer, primary_key=True)\n",
    "    customer_id = db.Column(db.Integer)\n",
    "    start_time = db.Column(db.DateTime)\n",
    "    end_time = db.Column(db.DateTime)\n",
    "    duration = db.Column(db.Integer)\n",
    "\n",
    "    def as_dict(self):\n",
    "        return {c.name: getattr(self, c.name) for c in self.__table__.columns}\n",
    "\n",
    "\n",
    "def get_db_connection():\n",
    "    \"\"\"\n",
    "    Establish and return a connection to the PostgreSQL database.\n",
    "    \"\"\"\n",
    "    return psycopg2.connect(\n",
    "        dbname=DB_NAME,\n",
    "        user=DB_USER,\n",
    "        password=DB_PASSWORD,\n",
    "        host=DB_HOST,\n",
    "        port=DB_PORT\n",
    "    )\n",
    "\n",
    "\n",
    "@app.route('/metrics/orders', methods=['GET'])\n",
    "def get_order_metrics():\n",
    "    \"\"\"\n",
    "    Return metrics on median visits and session duration before an order.\n",
    "    \"\"\"\n",
    "    try:\n",
    "        conn = get_db_connection()\n",
    "        cursor = conn.cursor()\n",
    "\n",
    "        # SQL queries to calculate metrics\n",
    "        median_visits_query = \"\"\"\n",
    "        SELECT\n",
    "            percentile_cont(0.5) WITHIN GROUP (ORDER BY visits) AS median_visits\n",
    "        FROM (\n",
    "            SELECT\n",
    "                customer_id,\n",
    "                COUNT(DISTINCT session_id) AS visits\n",
    "            FROM\n",
    "                sessions\n",
    "            WHERE\n",
    "                customer_id IS NOT NULL\n",
    "            GROUP BY\n",
    "                customer_id\n",
    "        ) subquery\n",
    "        \"\"\"\n",
    "        \n",
    "        median_duration_query = \"\"\"\n",
    "        SELECT\n",
    "            percentile_cont(0.5) WITHIN GROUP (ORDER BY duration) AS median_duration_minutes\n",
    "        FROM (\n",
    "            SELECT\n",
    "                customer_id,\n",
    "                MIN(duration) AS duration\n",
    "            FROM\n",
    "                sessions\n",
    "            WHERE\n",
    "                customer_id IS NOT NULL\n",
    "            GROUP BY\n",
    "                customer_id\n",
    "        ) subquery\n",
    "        \"\"\"\n",
    "\n",
    "        cursor.execute(median_visits_query)\n",
    "        median_visits = cursor.fetchone()[0]\n",
    "\n",
    "        cursor.execute(median_duration_query)\n",
    "        median_duration_minutes = cursor.fetchone()[0]\n",
    "\n",
    "        metrics = {\n",
    "            \"median_visits_before_order\": median_visits,\n",
    "            \"median_session_duration_minutes_before_order\": median_duration_minutes\n",
    "        }\n",
    "\n",
    "    except psycopg2.Error as e:\n",
    "        metrics = {\"error\": str(e)}\n",
    "\n",
    "    finally:\n",
    "        if cursor:\n",
    "            cursor.close()\n",
    "        if conn:\n",
    "            conn.close()\n",
    "\n",
    "    return jsonify(metrics)\n",
    "\n",
    "\n",
    "if __name__ == \"__main__\":\n",
    "    app.run(debug=True)\n"
   ]
  },
  {
   "cell_type": "code",
   "execution_count": null,
   "id": "8d89f397",
   "metadata": {},
   "outputs": [],
   "source": []
  }
 ],
 "metadata": {
  "kernelspec": {
   "display_name": "Python 3 (ipykernel)",
   "language": "python",
   "name": "python3"
  },
  "language_info": {
   "codemirror_mode": {
    "name": "ipython",
    "version": 3
   },
   "file_extension": ".py",
   "mimetype": "text/x-python",
   "name": "python",
   "nbconvert_exporter": "python",
   "pygments_lexer": "ipython3",
   "version": "3.11.4"
  }
 },
 "nbformat": 4,
 "nbformat_minor": 5
}
