{
 "cells": [
  {
   "cell_type": "markdown",
   "id": "bd661752",
   "metadata": {},
   "source": [
    "**Assignment**"
   ]
  },
  {
   "cell_type": "code",
   "execution_count": null,
   "id": "83a938cb",
   "metadata": {},
   "outputs": [],
   "source": [
    "import requests\n",
    "import json\n",
    "\n",
    "url = \"https://storage.googleapis.com/xcc-de-assessment/events.json\"\n",
    "response = requests.get(url)\n",
    "\n",
    "# Split the content by lines\n",
    "lines = response.text.splitlines()\n",
    "\n",
    "# Parse each line as an individual JSON object\n",
    "data = [json.loads(line) for line in lines]\n",
    "\n"
   ]
  },
  {
   "cell_type": "code",
   "execution_count": null,
   "id": "65bae7a1",
   "metadata": {},
   "outputs": [],
   "source": [
    "#checking the number of rows\n",
    "total_rows = len(data)\n",
    "print(total_rows)\n"
   ]
  },
  {
   "cell_type": "code",
   "execution_count": null,
   "id": "06d22498",
   "metadata": {},
   "outputs": [],
   "source": [
    "#filtering the customers with null id \n",
    "\n",
    "logged_in_data = [event for event in data if event[\"event\"][\"customer-id\"] is not None]\n",
    "\n",
    "total_rows = len(logged_in_data)\n",
    "print(total_rows)"
   ]
  },
  {
   "cell_type": "markdown",
   "id": "0c3c0f0e",
   "metadata": {},
   "source": [
    "==> from a total of 667961 rows we have 191011 rows with non-null customer_id"
   ]
  },
  {
   "cell_type": "code",
   "execution_count": null,
   "id": "54264909",
   "metadata": {},
   "outputs": [],
   "source": [
    "# I'm gonna assume based in the assignment reauirement that the time between each session is 30 minutes of inactivity \n",
    "\n",
    "import datetime\n",
    "logged_in_data.sort(key=lambda x: (x[\"event\"][\"customer-id\"], x[\"event\"][\"timestamp\"]))\n",
    "\n",
    "sessions = []\n",
    "session = []\n",
    "prev_timestamp = None\n",
    "\n",
    "for event in logged_in_data:\n",
    "    current_timestamp = datetime.datetime.fromisoformat(event[\"event\"][\"timestamp\"])\n",
    "    if prev_timestamp and (current_timestamp - prev_timestamp).seconds > 1800:  # 30 minutes in seconds\n",
    "        sessions.append(session)\n",
    "        session = []\n",
    "    session.append(event)\n",
    "    prev_timestamp = current_timestamp\n",
    "\n",
    "if session:\n",
    "    sessions.append(session)\n"
   ]
  },
  {
   "cell_type": "code",
   "execution_count": null,
   "id": "1d70cd15",
   "metadata": {},
   "outputs": [],
   "source": [
    "pip install psycopg2\n"
   ]
  },
  {
   "cell_type": "code",
   "execution_count": null,
   "id": "42e83437",
   "metadata": {},
   "outputs": [],
   "source": [
    "\n",
    "import psycopg2\n",
    "\n",
    "# Connection details for PostgreSQL database on Docker\n",
    "DB_NAME = \"xcceleratedpostgresdb\"\n",
    "DB_USER = \"postgres\"  # user\n",
    "DB_PASSWORD = \"AzerKimo2022@@@\"\n",
    "DB_HOST = \"localhost\"  #  connecting from the host machine\n",
    "DB_PORT = \"5432\"  # default port for PostgreSQL\n",
    "\n",
    "# Connect to PostgreSQL database\n",
    "conn = psycopg2.connect(\n",
    "    dbname=DB_NAME,\n",
    "    user=DB_USER,\n",
    "    password=DB_PASSWORD,\n",
    "    host=DB_HOST,\n",
    "    port=DB_PORT\n",
    ")\n",
    "cursor = conn.cursor()\n",
    "\n",
    "\n",
    "\n"
   ]
  },
  {
   "cell_type": "code",
   "execution_count": null,
   "id": "366c04c5",
   "metadata": {},
   "outputs": [],
   "source": [
    "#i am using a PostgreSQL database called xcceleratedpostgresdb running on a docker container  \n",
    "\n",
    "import psycopg2\n",
    "\n",
    "# Connection details to PostgreSQL\n",
    "DB_NAME = \"xcceleratedpostgresdb\"\n",
    "DB_USER = \"postgres\"\n",
    "DB_PASSWORD = \"AzerKimo2022@@@\"\n",
    "DB_HOST = \"localhost\"\n",
    "DB_PORT = \"5432\"\n",
    "\n",
    "# Try connecting to the database\n",
    "try:\n",
    "    conn = psycopg2.connect(\n",
    "        dbname=DB_NAME,\n",
    "        user=DB_USER,\n",
    "        password=DB_PASSWORD,\n",
    "        host=DB_HOST,\n",
    "        port=DB_PORT\n",
    "    )\n",
    "\n",
    "    # Create a cursor object to interact with PostgreSQL\n",
    "    cursor = conn.cursor()\n",
    "\n",
    "    # Execute a simple query to fetch PostgreSQL version\n",
    "    cursor.execute(\"SELECT version();\")\n",
    "    version = cursor.fetchone()\n",
    "\n",
    "    # Print the version\n",
    "    print(\"Connected to:\", version[0])\n",
    "\n",
    "except psycopg2.OperationalError as e:\n",
    "    print(f\"Failed to connect to the database! Error: {e}\")\n",
    "    \n",
    "\n",
    "    # Ensure to close the connection and cursor if they exist\n",
    "    #if cursor:\n",
    "    #   cursor.close()\n",
    "    # if conn:\n",
    "    #    conn.close() '''\n"
   ]
  },
  {
   "cell_type": "code",
   "execution_count": null,
   "id": "e9c46acf",
   "metadata": {},
   "outputs": [],
   "source": [
    "# Create a table for sessions\n",
    "cursor.execute(\"\"\"\n",
    "CREATE TABLE IF NOT EXISTS sessions (\n",
    "    session_id SERIAL PRIMARY KEY,\n",
    "    customer_id INTEGER,\n",
    "    start_time TIMESTAMP,\n",
    "    end_time TIMESTAMP,\n",
    "    duration INTEGER\n",
    ")\n",
    "\"\"\")\n",
    "\n",
    "# Insert sessions into the table\n",
    "for idx, session in enumerate(sessions):\n",
    "    start_time_str = session[0][\"event\"][\"timestamp\"]\n",
    "    end_time_str = session[-1][\"event\"][\"timestamp\"]\n",
    "    \n",
    "    start_time = datetime.datetime.fromisoformat(start_time_str)\n",
    "    end_time = datetime.datetime.fromisoformat(end_time_str)\n",
    "    \n",
    "    duration = (end_time - start_time).seconds\n",
    "    customer_id = session[0][\"event\"][\"customer-id\"]\n",
    "\n",
    "    cursor.execute(\"INSERT INTO sessions (customer_id, start_time, end_time, duration) VALUES (%s, %s, %s, %s)\", \n",
    "                   (customer_id, start_time_str, end_time_str, duration))\n",
    "conn.commit() "
   ]
  },
  {
   "cell_type": "markdown",
   "id": "174988f2",
   "metadata": {},
   "source": [
    "**Step 2: Publish the Results**\n",
    "\n",
    "1. Design the API\n",
    "2. Implementation"
   ]
  },
  {
   "cell_type": "code",
   "execution_count": null,
   "id": "00e8a14d",
   "metadata": {},
   "outputs": [],
   "source": [
    "# Set up Flask and threading since i am working in ipynb file \n",
    "\n",
    "from flask import Flask, jsonify\n",
    "import threading\n",
    "\n",
    "app = Flask(__name__)\n",
    "\n",
    "@app.route(\"/\")\n",
    "def hello():\n",
    "    return \"Hello, Xccelerated!\"\n",
    "\n",
    "def run():\n",
    "    app.run(debug=True, use_reloader=False)  # Set use_reloader to False to avoid the loop restart\n",
    "\n",
    "t = threading.Thread(target=run)\n",
    "t.start()\n",
    "\n",
    "\n"
   ]
  },
  {
   "cell_type": "code",
   "execution_count": null,
   "id": "819f259f",
   "metadata": {},
   "outputs": [],
   "source": [
    "# Database Connection\n",
    "import psycopg2\n",
    "\n",
    "def get_db_connection():\n",
    "    # Define your connection parameters\n",
    "    dbname = \"xcceleratedpostgresdb\"\n",
    "    user = \"postgres\"\n",
    "    password = \"AzerKimo2022@@@\"\n",
    "    host = \"localhost\"\n",
    "    port = \"5432\"\n",
    "    \n",
    "    # Establish and return the connection\n",
    "    conn = psycopg2.connect(\n",
    "        dbname=dbname,\n",
    "        user=user,\n",
    "        password=password,\n",
    "        host=host,\n",
    "        port=port\n",
    "    )\n",
    "    return conn\n"
   ]
  },
  {
   "cell_type": "code",
   "execution_count": null,
   "id": "93c2f5c9",
   "metadata": {},
   "outputs": [],
   "source": [
    "get_db_connection()"
   ]
  },
  {
   "cell_type": "code",
   "execution_count": null,
   "id": "3a338b97",
   "metadata": {},
   "outputs": [],
   "source": [
    "pip install psycopg2-binary Flask-SQLAlchemy --user"
   ]
  },
  {
   "cell_type": "code",
   "execution_count": null,
   "id": "bae9beed",
   "metadata": {},
   "outputs": [],
   "source": [
    "from flask import Flask, jsonify\n",
    "from flask_sqlalchemy import SQLAlchemy\n",
    "\n",
    "app = Flask(__name__)\n",
    "\n",
    "# Configuration for the PostgreSQL database\n",
    "app.config['SQLALCHEMY_DATABASE_URI'] = 'postgresql://postgres:AzerKimo2022@@@localhost:5432/xcceleratedpostgresdb'\n",
    "app.config['SQLALCHEMY_TRACK_MODIFICATIONS'] = False  # to avoid a warning message\n",
    "\n",
    "# Initialize the database connection\n",
    "db = SQLAlchemy(app)\n",
    "\n",
    "# Define the model for the 'sessions' table\n",
    "class Session(db.Model):\n",
    "    __tablename__ = 'sessions'\n",
    "    __table_args__ = {'schema': 'public'}\n",
    "    \n",
    "    session_id = db.Column(db.Integer, primary_key=True)\n",
    "    customer_id = db.Column(db.Integer, nullable=True)\n",
    "    start_time = db.Column(db.DateTime, nullable=True)\n",
    "    end_time = db.Column(db.DateTime, nullable=True)\n",
    "    duration = db.Column(db.Integer, nullable=True)\n",
    "\n",
    "    # Method to convert a session into a dictionary (useful for jsonify)\n",
    "    def as_dict(self):\n",
    "        return {c.name: getattr(self, c.name) for c in self.__table__.columns}\n",
    "\n",
    "@app.route('/sessions', methods=['GET'])\n",
    "def get_sessions():\n",
    "    sessions = Session.query.all()\n",
    "    return jsonify([session.as_dict() for session in sessions])\n",
    "\n",
    "@app.route('/')\n",
    "def index():\n",
    "    return \"Welcome to Xccelerated!\"\n",
    "\n",
    "if __name__ == \"__main__\":\n",
    "    app.run(debug=True)\n"
   ]
  },
  {
   "cell_type": "code",
   "execution_count": null,
   "id": "74e4ec0f",
   "metadata": {},
   "outputs": [],
   "source": []
  }
 ],
 "metadata": {
  "kernelspec": {
   "display_name": "Python 3 (ipykernel)",
   "language": "python",
   "name": "python3"
  },
  "language_info": {
   "codemirror_mode": {
    "name": "ipython",
    "version": 3
   },
   "file_extension": ".py",
   "mimetype": "text/x-python",
   "name": "python",
   "nbconvert_exporter": "python",
   "pygments_lexer": "ipython3",
   "version": "3.11.4"
  }
 },
 "nbformat": 4,
 "nbformat_minor": 5
}
