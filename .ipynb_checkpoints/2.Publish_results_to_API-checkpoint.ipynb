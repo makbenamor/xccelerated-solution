{
 "cells": [
  {
   "cell_type": "code",
   "execution_count": null,
   "id": "bb843b99",
   "metadata": {},
   "outputs": [],
   "source": [
    "pip install Flask psycopg2"
   ]
  },
  {
   "cell_type": "code",
   "execution_count": null,
   "id": "dcc7afbb",
   "metadata": {},
   "outputs": [],
   "source": [
    "import psycopg2\n",
    "\n",
    "# Define connection parameters\n",
    "DATABASE_SETTINGS = {\n",
    "    \"database\": \"xcceleratedpostgresdb\",\n",
    "    \"user\": \"postgres\",\n",
    "    \"password\": \"AzerKimo2022@@@\",\n",
    "    \"host\": \"localhost\",\n",
    "    \"port\": \"5432\"\n",
    "}\n",
    "\n",
    "# Create a connection and cursor object\n",
    "connection = psycopg2.connect(**DATABASE_SETTINGS)\n",
    "cursor = connection.cursor()\n"
   ]
  },
  {
   "cell_type": "code",
   "execution_count": null,
   "id": "986082a6",
   "metadata": {},
   "outputs": [],
   "source": [
    "# SQL to get median visits before order\n",
    "median_visits_sql = \"\"\"\n",
    "WITH OrdersSessions AS (\n",
    "    SELECT customer_id, MIN(session_timestamp) as first_order_time\n",
    "    FROM sessions\n",
    "    WHERE event_type = 'ADD_PRODUCT_TO_CART'  -- Assuming this indicates a purchase\n",
    "    GROUP BY customer_id\n",
    ")\n",
    "SELECT \n",
    "    customer_id, \n",
    "    COUNT(session_id) as total_sessions_before_order\n",
    "FROM sessions\n",
    "JOIN OrdersSessions ON sessions.customer_id = OrdersSessions.customer_id\n",
    "WHERE session_timestamp < first_order_time\n",
    "GROUP BY sessions.customer_id\n",
    "\"\"\"\n",
    "\n",
    "# SQL to get median session duration before order\n",
    "median_duration_sql = \"\"\"\n",
    "WITH OrdersSessions AS (\n",
    "    SELECT customer_id, MIN(session_timestamp) as first_order_time\n",
    "    FROM sessions\n",
    "    WHERE event_type = 'ADD_PRODUCT_TO_CART'  -- Assuming this indicates a purchase\n",
    "    GROUP BY customer_id\n",
    ")\n",
    "SELECT \n",
    "    customer_id, \n",
    "    AVG(session_end_time - session_start_time) as avg_session_duration\n",
    "FROM sessions\n",
    "JOIN OrdersSessions ON sessions.customer_id = OrdersSessions.customer_id\n",
    "WHERE session_timestamp < first_order_time\n",
    "GROUP BY sessions.customer_id\n",
    "\"\"\"\n"
   ]
  },
  {
   "cell_type": "code",
   "execution_count": null,
   "id": "3ed8f884",
   "metadata": {},
   "outputs": [],
   "source": [
    "!pip install Flask"
   ]
  },
  {
   "cell_type": "code",
   "execution_count": null,
   "id": "e252c6b1",
   "metadata": {},
   "outputs": [],
   "source": [
    "from flask import Flask, jsonify\n",
    "\n",
    "app = Flask(__name__)\n",
    "\n",
    "@app.route(\"/metrics/orders\", methods=[\"GET\"])\n",
    "def metrics_orders():\n",
    "    # Fetch median visits before order\n",
    "    cursor.execute(median_visits_sql)\n",
    "    visits_data = cursor.fetchall()\n",
    "    visits_data = [item[1] for item in visits_data]\n",
    "    median_visits = sorted(visits_data)[len(visits_data) // 2] if visits_data else None\n",
    "\n",
    "    # Fetch median session duration before order\n",
    "    cursor.execute(median_duration_sql)\n",
    "    duration_data = cursor.fetchall()\n",
    "    duration_data = [item[1].total_seconds() / 60 for item in duration_data]  # Convert to minutes\n",
    "    median_duration = sorted(duration_data)[len(duration_data) // 2] if duration_data else None\n",
    "    \n",
    "    return jsonify({\n",
    "        \"median_visits_before_order\": median_visits,\n",
    "        \"median_session_duration_minutes_before_order\": median_duration\n",
    "    })\n",
    "\n",
    "# Run the server on port 5000\n",
    "if __name__ == \"__main__\":\n",
    "    app.run(port=5000)\n"
   ]
  },
  {
   "cell_type": "code",
   "execution_count": null,
   "id": "7b1aa4f3",
   "metadata": {},
   "outputs": [],
   "source": []
  }
 ],
 "metadata": {
  "kernelspec": {
   "display_name": "Python 3 (ipykernel)",
   "language": "python",
   "name": "python3"
  },
  "language_info": {
   "codemirror_mode": {
    "name": "ipython",
    "version": 3
   },
   "file_extension": ".py",
   "mimetype": "text/x-python",
   "name": "python",
   "nbconvert_exporter": "python",
   "pygments_lexer": "ipython3",
   "version": "3.11.4"
  }
 },
 "nbformat": 4,
 "nbformat_minor": 5
}
